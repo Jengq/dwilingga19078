{
 "cells": [
  {
   "cell_type": "markdown",
   "metadata": {},
   "source": [
    "# K-Means Clustering"
   ]
  },
  {
   "cell_type": "markdown",
   "metadata": {},
   "source": [
    "K-Means clustering ialah metode yang termasuk pada clustering non-hirarki dimana setiap obyek yang masuk dalam kelompok adalah obyek-obyek yang sama dan berkorelasi.  Data yang tergabung dalam kelompok mempunyai tingkat kemiripan yang lebih besar dan memiliki tingkat perbedaan yang besar pula dengan kelompok lainnya"
   ]
  },
  {
   "cell_type": "markdown",
   "metadata": {},
   "source": [
    "### Import Library\n",
    "\n",
    "Libray yang akan mendukung proses Clustering diimport"
   ]
  },
  {
   "cell_type": "code",
   "execution_count": 1,
   "metadata": {
    "_cell_guid": "b1076dfc-b9ad-4769-8c92-a6c4dae69d19",
    "_uuid": "8f2839f25d086af736a60e9eeb907d3b93b6e0e5"
   },
   "outputs": [],
   "source": [
    "import numpy as np \n",
    "import pandas as pd \n",
    "import matplotlib.pyplot as plt\n",
    "import seaborn as sns\n",
    "from Sastrawi.Stemmer.StemmerFactory import StemmerFactory\n",
    "from sklearn.feature_extraction import text\n",
    "from sklearn.feature_extraction.text import TfidfVectorizer\n",
    "from sklearn.cluster import KMeans\n",
    "from nltk.tokenize import RegexpTokenizer\n",
    "from nltk.stem.snowball import SnowballStemmer\n",
    "from nltk.corpus import stopwords\n",
    "from sklearn.cluster import KMeans\n",
    "%matplotlib inline"
   ]
  },
  {
   "cell_type": "code",
   "execution_count": 2,
   "metadata": {
    "_cell_guid": "79c7e3d0-c299-4dcb-8224-4455121ee9b0",
    "_uuid": "d629ff2d2480ee46fbb7e2d37f6b5fab8052498a",
    "scrolled": true
   },
   "outputs": [
    {
     "name": "stderr",
     "output_type": "stream",
     "text": [
      "C:\\Users\\LENOVO\\AppData\\Local\\Temp\\ipykernel_21672\\2994654346.py:1: FutureWarning: The error_bad_lines argument has been deprecated and will be removed in a future version. Use on_bad_lines in the future.\n",
      "\n",
      "\n",
      "  data = pd.read_csv(\"jurnal.csv\",error_bad_lines=False,usecols =[\"Abstrak_indo\"])\n"
     ]
    },
    {
     "data": {
      "text/html": [
       "<div>\n",
       "<style scoped>\n",
       "    .dataframe tbody tr th:only-of-type {\n",
       "        vertical-align: middle;\n",
       "    }\n",
       "\n",
       "    .dataframe tbody tr th {\n",
       "        vertical-align: top;\n",
       "    }\n",
       "\n",
       "    .dataframe thead th {\n",
       "        text-align: right;\n",
       "    }\n",
       "</style>\n",
       "<table border=\"1\" class=\"dataframe\">\n",
       "  <thead>\n",
       "    <tr style=\"text-align: right;\">\n",
       "      <th></th>\n",
       "      <th>Abstrak_indo</th>\n",
       "    </tr>\n",
       "  </thead>\n",
       "  <tbody>\n",
       "    <tr>\n",
       "      <th>0</th>\n",
       "      <td>Suatu keputusan investasi selalu berhubungan d...</td>\n",
       "    </tr>\n",
       "    <tr>\n",
       "      <th>1</th>\n",
       "      <td>Objek penelitian ini adalah pembelian produk X...</td>\n",
       "    </tr>\n",
       "    <tr>\n",
       "      <th>2</th>\n",
       "      <td>ABSTRAK\\r\\nTujuan penelitian ini adalah untuk ...</td>\n",
       "    </tr>\n",
       "    <tr>\n",
       "      <th>3</th>\n",
       "      <td>ABSTRAK\\r\\n\\tTujuan penelitian ini adalah mend...</td>\n",
       "    </tr>\n",
       "    <tr>\n",
       "      <th>4</th>\n",
       "      <td>ABSTRAK\\r\\...</td>\n",
       "    </tr>\n",
       "  </tbody>\n",
       "</table>\n",
       "</div>"
      ],
      "text/plain": [
       "                                        Abstrak_indo\n",
       "0  Suatu keputusan investasi selalu berhubungan d...\n",
       "1  Objek penelitian ini adalah pembelian produk X...\n",
       "2  ABSTRAK\\r\\nTujuan penelitian ini adalah untuk ...\n",
       "3  ABSTRAK\\r\\n\\tTujuan penelitian ini adalah mend...\n",
       "4                                      ABSTRAK\\r\\..."
      ]
     },
     "execution_count": 2,
     "metadata": {},
     "output_type": "execute_result"
    }
   ],
   "source": [
    "data = pd.read_csv(\"jurnal.csv\",error_bad_lines=False,usecols =[\"Abstrak_indo\"])\n",
    "data.head()"
   ]
  },
  {
   "cell_type": "code",
   "execution_count": 3,
   "metadata": {
    "_cell_guid": "3e44d856-a323-45ac-b7cc-80d77385060f",
    "_uuid": "a498ee778ab763e0801b8f9cf14e1d4d01f38846"
   },
   "outputs": [
    {
     "name": "stdout",
     "output_type": "stream",
     "text": [
      "<class 'pandas.core.frame.DataFrame'>\n",
      "RangeIndex: 12 entries, 0 to 11\n",
      "Data columns (total 1 columns):\n",
      " #   Column        Non-Null Count  Dtype \n",
      "---  ------        --------------  ----- \n",
      " 0   Abstrak_indo  12 non-null     object\n",
      "dtypes: object(1)\n",
      "memory usage: 224.0+ bytes\n"
     ]
    }
   ],
   "source": [
    "data.info()"
   ]
  },
  {
   "cell_type": "markdown",
   "metadata": {
    "_cell_guid": "7ecba7c7-84d0-426b-aa9c-9ca05d45da75",
    "_uuid": "d2f1e1b88fb7b29fd47c249be3af044ef1e2a246"
   },
   "source": [
    "## Mempersiapkan data untuk vektorisasi\n",
    "\n",
    "Namun, ketika melakukan pemrosesan bahasa alami, kata-kata harus diubah menjadi vektor yang dapat digunakan oleh algoritma pembelajaran mesin. Jika tujuan Anda adalah melakukan pembelajaran mesin pada data teks, seperti ulasan film atau tweet atau apa pun, Anda perlu mengubah data teks menjadi angka. Proses ini kadang-kadang disebut sebagai \"penyematan\" atau \"vektorisasi\".\n",
    "\n",
    "Dalam hal vektorisasi, penting untuk diingat bahwa itu tidak hanya mengubah satu kata menjadi satu angka. Sementara kata-kata dapat diubah menjadi angka, seluruh dokumen dapat diterjemahkan ke dalam vektor. Vektor tidak hanya dapat memiliki lebih dari satu dimensi, tetapi dengan data teks, vektor biasanya berdimensi tinggi. Ini karena setiap dimensi data fitur Anda akan sesuai dengan sebuah kata, dan bahasa dalam dokumen yang Anda periksa akan memiliki ribuan kata.\n",
    "\n",
    "## TF-IDF\n",
    "Dalam temu kembali informasi, tf–idf atau TFIDF, kependekan dari term frequency-inverse document frequency, adalah statistik numerik yang dimaksudkan untuk mencerminkan betapa pentingnya sebuah kata bagi dokumen dalam kumpulan atau korpus. Ini sering digunakan sebagai faktor pembobotan dalam pencarian temu kembali informasi, penambangan teks, dan pemodelan pengguna. Nilai tf-idf meningkat secara proporsional dengan berapa kali sebuah kata muncul dalam dokumen dan diimbangi oleh frekuensi kata dalam korpus, yang membantu menyesuaikan fakta bahwa beberapa kata muncul lebih sering secara umum. Saat ini, tf-idf adalah salah satu skema pembobotan term yang paling populer; 83% sistem rekomendasi berbasis teks dalam domain perpustakaan digital menggunakan tf-idf.\n",
    "\n",
    "Variasi skema pembobotan tf-idf sering digunakan oleh mesin pencari sebagai alat utama dalam penilaian dan peringkat relevansi dokumen yang diberikan permintaan pengguna. tf–idf dapat berhasil digunakan untuk pemfilteran stop-words di berbagai bidang subjek, termasuk peringkasan dan klasifikasi teks.\n",
    "\n",
    "Salah satu fungsi peringkat paling sederhana dihitung dengan menjumlahkan tf–idf untuk setiap istilah kueri; banyak fungsi peringkat yang lebih canggih adalah varian dari model sederhana ini."
   ]
  },
  {
   "cell_type": "markdown",
   "metadata": {},
   "source": [
    "## Stopword"
   ]
  },
  {
   "cell_type": "code",
   "execution_count": 4,
   "metadata": {
    "_cell_guid": "c7e595ab-440c-4ad7-98e4-4358cc724d8c",
    "_uuid": "9c1c23ecabae8217a9aa8f90371f2a30053cc6f1"
   },
   "outputs": [
    {
     "name": "stderr",
     "output_type": "stream",
     "text": [
      "C:\\Users\\LENOVO\\AppData\\Local\\Programs\\Python\\Python310\\lib\\site-packages\\sklearn\\feature_extraction\\text.py:404: UserWarning: Your stop_words may be inconsistent with your preprocessing. Tokenizing the stop words generated tokens ['baiknya', 'berkali', 'kali', 'kurangnya', 'mata', 'olah', 'sekurang', 'setidak', 'tama', 'tidaknya'] not in stop_words.\n",
      "  warnings.warn(\n"
     ]
    }
   ],
   "source": [
    "stop_words = stopwords.words('indonesian')\n",
    "stop_words.extend([\"yg\", \"dg\", \"rt\", \"dgn\", \"ny\", \"d\", 'klo', \n",
    "                       'kalo', 'amp', 'biar', 'bikin', 'bilang', \n",
    "                       'gak', 'ga', 'krn', 'nya', 'nih', 'sih', \n",
    "                       'si', 'tau', 'tdk', 'tuh', 'utk', 'ya', \n",
    "                       'jd', 'jgn', 'sdh', 'aja', 'n', 't', \n",
    "                       'nyg', 'hehe', 'pen', 'u', 'nan', 'loh', 'rt',\n",
    "                       '&amp', 'yah'])\n",
    "desc = data['Abstrak_indo'].values\n",
    "vectorizer = TfidfVectorizer(stop_words = stop_words)\n",
    "X = vectorizer.fit_transform(desc)"
   ]
  },
  {
   "cell_type": "code",
   "execution_count": 5,
   "metadata": {
    "_cell_guid": "eb56971e-5412-4138-a4cd-0e14844796be",
    "_uuid": "10af64e15e2f08c30da71b847432eedc2aece199"
   },
   "outputs": [
    {
     "name": "stdout",
     "output_type": "stream",
     "text": [
      "459\n",
      "[]\n"
     ]
    },
    {
     "name": "stderr",
     "output_type": "stream",
     "text": [
      "C:\\Users\\LENOVO\\AppData\\Local\\Programs\\Python\\Python310\\lib\\site-packages\\sklearn\\utils\\deprecation.py:87: FutureWarning: Function get_feature_names is deprecated; get_feature_names is deprecated in 1.0 and will be removed in 1.2. Please use get_feature_names_out instead.\n",
      "  warnings.warn(msg, category=FutureWarning)\n"
     ]
    }
   ],
   "source": [
    "word_features = vectorizer.get_feature_names()\n",
    "print(len(word_features))\n",
    "print(word_features[5000:5100])"
   ]
  },
  {
   "cell_type": "markdown",
   "metadata": {
    "_cell_guid": "871b1bd6-c411-4ff6-a784-9b376a0db4e6",
    "_uuid": "e480f5b88938660f05c09f75af5f9f58d7110096"
   },
   "source": [
    "## Stemming\n",
    "Stemming adalah proses mereduksi sebuah kata menjadi batangnya, yaitu bentuk akarnya. Bentuk akar belum tentu kata itu sendiri, tetapi dapat digunakan untuk menghasilkan kata-kata dengan menggabungkan sufiks yang tepat. Misalnya, kata ikan, ikan, dan memancing semuanya berasal dari ikan, yang merupakan kata yang benar. Di sisi lain, kata studi, studi, dan studi berasal dari studi, yang bukan merupakan kata bahasa Inggris.\n",
    "\n",
    "## Tokenisasi\n",
    "Tokenisasi adalah memecah kalimat menjadi kata-kata dan tanda baca,"
   ]
  },
  {
   "cell_type": "code",
   "execution_count": 6,
   "metadata": {
    "_cell_guid": "536a1a88-48a3-43d0-b368-ccf31947e5b1",
    "_uuid": "5d25104db183624b990a1d64e10cc618fd8ee715"
   },
   "outputs": [],
   "source": [
    "factory = StemmerFactory()\n",
    "stemmer = factory.create_stemmer()\n",
    "tokenizer = RegexpTokenizer(r'[a-zA-Z\\']+')\n",
    "\n",
    "def tokenize(text):\n",
    "    return [stemmer.stem(word) for word in tokenizer.tokenize(text.lower())]"
   ]
  },
  {
   "cell_type": "markdown",
   "metadata": {
    "_cell_guid": "9877cf33-ebe8-46e4-b26e-c6f673617517",
    "_uuid": "d190c4d6b9cb52ad70a021e3475704538b47f85f"
   },
   "source": [
    "Vektorisasi dengan stopword (kata-kata yang tidak relevan dengan model), stemming dan tokenizing"
   ]
  },
  {
   "cell_type": "code",
   "execution_count": 7,
   "metadata": {
    "_cell_guid": "18e1d30c-5515-4c0d-89e4-6af99658bee3",
    "_uuid": "5fcc93fa3093f30d181ffa38b4ca46b133316952",
    "scrolled": false
   },
   "outputs": [
    {
     "name": "stderr",
     "output_type": "stream",
     "text": [
      "C:\\Users\\LENOVO\\AppData\\Local\\Programs\\Python\\Python310\\lib\\site-packages\\sklearn\\feature_extraction\\text.py:404: UserWarning: Your stop_words may be inconsistent with your preprocessing. Tokenizing the stop words generated tokens ['arti', 'asa', 'buah', 'bum', 'enak', 'hadap', 'ikan', 'ira', 'jenak', 'kali', 'kena', 'kerja', 'khusus', 'laku', 'langsung', 'lihat', 'maksud', 'masuk', 'mata', 'mena', 'nyata', 'olah', 'orang', 'rupa', 'sampa', 'sangkut', 'sekal', 'sekira', 'sin', 'tama', 'tuju', 'upa', 'utama'] not in stop_words.\n",
      "  warnings.warn(\n"
     ]
    },
    {
     "name": "stdout",
     "output_type": "stream",
     "text": [
      "371\n",
      "['a', 'abstrak', 'accidental', 'adaro', 'adjusted', 'agro', 'aksesibilitas', 'aktif', 'aktiva', 'alami', 'alat', 'alkirom', 'ambil', 'analis', 'analisis', 'analitik', 'anugrahini', 'aplikasi', 'arti', 'astra', 'asumsi', 'aththaariq', 'aulia', 'b', 'bangkal', 'bank', 'bantu', 'baur', 'bebas', 'beda', 'beli', 'bentuk', 'beta', 'bijak', 'bimbing', 'bintang', 'buah', 'budaya', 'bukti', 'bursa', 'businees', 'business', 'butuh', 'buyung', 'cabang', 'cair', 'camat', 'capai', 'ci', 'cipta']\n"
     ]
    }
   ],
   "source": [
    "vectorizer2 = TfidfVectorizer(stop_words = stop_words, tokenizer = tokenize)\n",
    "X2 = vectorizer2.fit_transform(desc)\n",
    "word_features2 = vectorizer2.get_feature_names()\n",
    "print(len(word_features2))\n",
    "print(word_features2[:50]) "
   ]
  },
  {
   "cell_type": "code",
   "execution_count": 9,
   "metadata": {
    "_cell_guid": "acdc11f4-7b5c-4aee-8c42-1a752bffbc2e",
    "_uuid": "244a3015e5b4f4f84c174586fa875f5cf49cff1d"
   },
   "outputs": [],
   "source": [
    "vectorizer3 = TfidfVectorizer(stop_words = stop_words, tokenizer = tokenize, max_features = 1000)\n",
    "X3 = vectorizer3.fit_transform(desc)\n",
    "words = vectorizer3.get_feature_names()"
   ]
  },
  {
   "cell_type": "markdown",
   "metadata": {
    "_cell_guid": "e8a8c1ed-8970-49e0-bae5-0e0d85abea84",
    "_uuid": "b5f2e66c25d17527b78ae1a1fe174f1ac6310286"
   },
   "source": [
    "## Proses K-means clustering"
   ]
  },
  {
   "cell_type": "markdown",
   "metadata": {
    "_cell_guid": "c9a1312e-45f7-44e4-9407-13012bdf97ce",
    "_uuid": "39ba3fa0f53454111495da2f7e7719572afec93a"
   },
   "source": [
    "### Metode siku untuk memilih jumlah cluster\n",
    "Metode ini melihat persentase varians yang dijelaskan sebagai fungsi dari jumlah cluster: Seseorang harus memilih sejumlah cluster sehingga menambahkan cluster lain tidak memberikan pemodelan data yang jauh lebih baik. Lebih tepatnya, jika seseorang memplot persentase varians yang dijelaskan oleh cluster terhadap jumlah cluster, cluster pertama akan menambah banyak informasi (menjelaskan banyak varians), tetapi pada titik tertentu keuntungan marjinal akan turun, memberikan sudut di grafik. Jumlah cluster dipilih pada titik ini, maka \"kriteria siku\". \"Siku\" ini tidak selalu dapat diidentifikasi dengan jelas. Persentase varians yang dijelaskan adalah rasio varians antar-kelompok terhadap varians total, juga dikenal sebagai uji-F. Sedikit variasi dari metode ini memplot kelengkungan varians dalam grup.\n",
    "\n",
    "### Pada dasarnya, jumlah cluster = nilai sumbu x dari titik yang merupakan sudut \"siku\" (plotnya sering terlihat seperti siku)"
   ]
  },
  {
   "cell_type": "code",
   "execution_count": 10,
   "metadata": {
    "_cell_guid": "c72b26ab-4bef-44e6-b854-5bca3cd1f217",
    "_uuid": "992bea80b2647c4f4e564bb020ce8eab07db6b78",
    "scrolled": true
   },
   "outputs": [
    {
     "data": {
      "image/png": "[encoded data removed]",
      "text/plain": [
       "<Figure size 432x288 with 1 Axes>"
      ]
     },
     "metadata": {
      "needs_background": "light"
     },
     "output_type": "display_data"
    }
   ],
   "source": [
    "wcss = []\n",
    "for i in range(1,11):\n",
    "    kmeans = KMeans(n_clusters=i,init='k-means++',max_iter=300,n_init=10,random_state=0)\n",
    "    kmeans.fit(X3)\n",
    "    wcss.append(kmeans.inertia_)\n",
    "plt.plot(range(1,11),wcss)\n",
    "plt.title('The Elbow Method')\n",
    "plt.xlabel('Number of clusters')\n",
    "plt.ylabel('WCSS')\n",
    "plt.savefig('elbow.png')\n",
    "plt.show()"
   ]
  },
  {
   "cell_type": "code",
   "execution_count": 11,
   "metadata": {
    "_cell_guid": "e096b262-a06c-4f0a-9c50-2ef4bda9b926",
    "_uuid": "0ed982322b3a0fecb997e88ef0fb2f681c5a801c",
    "scrolled": false
   },
   "outputs": [
    {
     "name": "stdout",
     "output_type": "stream",
     "text": [
      "['profesionalisme', 'profitabilitas', 'program', 'promosi', 'proporsi', 'psikologis', 'pt', 'puas', 'purposive', 'purpossive', 'pustaka', 'putus', 'r', 'random', 'rasio', 'rasional', 'ratio', 'recovery', 'reduction', 'regresi', 'reliabilitas', 'reputasi', 'responden', 'return', 'returns', 'reza', 'risiko', 'risk', 'rm', 'roe', 'rumah', 'rupa', 's', 'saham', 'saing', 'sakit', 'salah', 'sampel', 'sampling', 'sampoerna', 'satiyah', 'sdm', 'sebar', 'segi', 'seleksi', 'sepeda', 'sertifikasi', 'service', 'serviscape', 'servisecape']\n"
     ]
    }
   ],
   "source": [
    "print(words[250:300])"
   ]
  },
  {
   "cell_type": "markdown",
   "metadata": {
    "_cell_guid": "a3c414e5-70b2-4c63-a46a-f9c82e406e4b",
    "_uuid": "6992f369b10d54adf27ecdcf24c6f57deabf466f"
   },
   "source": [
    "## 3 Clusters"
   ]
  },
  {
   "cell_type": "code",
   "execution_count": 12,
   "metadata": {
    "_cell_guid": "b395dddc-8acb-40a8-825e-a6f3a615809e",
    "_uuid": "e0e187a022ec9032385f715d87cfbb865a11698d",
    "scrolled": false
   },
   "outputs": [
    {
     "name": "stdout",
     "output_type": "stream",
     "text": [
      "0 : ratio, tbk, current, equity, pt, return, portofolio, profitabilitas, saham, to, uji, teliti, debt, roe, risk, firm, on, leverage, size, usaha, pengaruh, indonesia, signifikan, payout, businees\n",
      "1 : x, kerja, kompensasi, kompetensi, variabel, pengaruh, finansial, inovasi, unggul, saing, produktivitas, langsung, dosen, teliti, hadap, latih, faktor, tingkat, karyawan, pegawai, kembang, pasar, data, optik, lamongan\n",
      "2 : produk, beli, putus, uji, kualitas, harga, pengaruh, variabel, bangkal, hadap, konsumen, merek, teliti, camat, xl, distribusi, martabak, hawaii, susu, cair, indomilk, langgan, promosi, perilaku, psikologis\n"
     ]
    }
   ],
   "source": [
    "kmeans = KMeans(n_clusters = 3, n_init = 20) # n_init(number of iterations for clsutering) n_jobs(number of cpu cores to use)\n",
    "kmeans.fit(X3)\n",
    "# We look at 3 the clusters generated by k-means.\n",
    "common_words = kmeans.cluster_centers_.argsort()[:,-1:-26:-1]\n",
    "for num, centroid in enumerate(common_words):\n",
    "    print(str(num) + ' : ' + ', '.join(words[word] for word in centroid))"
   ]
  },
  {
   "cell_type": "markdown",
   "metadata": {
    "_cell_guid": "05f80701-83af-49c1-a7b8-df8c20396bb9",
    "_uuid": "4750051c6cbdc6d262f31a94f5c4776eb020644a"
   },
   "source": [
    "## 5 Clusters"
   ]
  },
  {
   "cell_type": "code",
   "execution_count": 13,
   "metadata": {
    "_cell_guid": "137b7e2c-970f-4f2f-929e-c7b2bd2a8004",
    "_uuid": "2813cee7e61b966b179b806d29b222c55551ee35",
    "scrolled": false
   },
   "outputs": [
    {
     "name": "stdout",
     "output_type": "stream",
     "text": [
      "0 : x, kompensasi, kompetensi, kerja, variabel, pengaruh, finansial, produktivitas, langsung, dosen, hadap, latih, faktor, teliti, karyawan, kembang, pegawai, dinas, ikan, laut, nilai, pasien, nonfinansial, signifikan, pedagogik\n",
      "1 : tbk, pt, portofolio, saham, return, optimal, risiko, astra, excess, kandidat, beta, to, indonesia, off, dana, indeks, tunggal, cut, energy, bentuk, hitung, investasi, point, teliti, dasar\n",
      "2 : saing, unggul, inovasi, pasar, optik, reza, lamongan, tingkat, data, kerja, alami, jawa, terap, laku, teliti, conclusion, omzet, timur, tawar, display, drawing, observasi, buah, dokumen, jual\n",
      "3 : produk, beli, putus, uji, kualitas, harga, pengaruh, variabel, bangkal, hadap, konsumen, merek, teliti, camat, xl, distribusi, martabak, hawaii, susu, cair, indomilk, langgan, promosi, perilaku, psikologis\n",
      "4 : ratio, current, equity, profitabilitas, uji, debt, roe, size, leverage, risk, firm, on, usaha, to, teliti, return, pengaruh, signifikan, payout, businees, dividend, variabel, efek, daftar, bursa\n"
     ]
    }
   ],
   "source": [
    "kmeans = KMeans(n_clusters = 5, n_init = 20)\n",
    "kmeans.fit(X3)\n",
    "# We look at 5 the clusters generated by k-means.\n",
    "common_words = kmeans.cluster_centers_.argsort()[:,-1:-26:-1]\n",
    "for num, centroid in enumerate(common_words):\n",
    "    print(str(num) + ' : ' + ', '.join(words[word] for word in centroid))"
   ]
  },
  {
   "cell_type": "markdown",
   "metadata": {
    "_cell_guid": "e5ab0cdc-1178-486d-a982-3457aa69d234",
    "_uuid": "4faeeea430f9f679a594b2c7f1ef1c857611ade5"
   },
   "source": [
    "## 6 Clusters"
   ]
  },
  {
   "cell_type": "code",
   "execution_count": 14,
   "metadata": {
    "_cell_guid": "de4d9fbb-2462-4491-899f-b1e28e1a7697",
    "_uuid": "73c1c5bfafe12fd9bd57ab0c3bd07f60630f05a8"
   },
   "outputs": [
    {
     "name": "stdout",
     "output_type": "stream",
     "text": [
      "0 : x, kompetensi, kerja, produktivitas, dosen, variabel, pengaruh, latih, faktor, kembang, pegawai, hadap, ikan, laut, dinas, teliti, pasien, pedagogik, puas, sakit, padu, recovery, surabaya, rumah, y\n",
      "1 : produk, beli, putus, uji, kualitas, harga, pengaruh, variabel, bangkal, hadap, konsumen, merek, teliti, camat, xl, distribusi, martabak, hawaii, susu, cair, indomilk, langgan, promosi, perilaku, psikologis\n",
      "2 : kompensasi, finansial, langsung, karyawan, nonfinansial, kerja, fhitung, signifikan, variabel, pengaruh, hadap, kantor, cabang, pos, p, persero, nilai, alat, pt, simultan, bantu, teliti, milik, arti, bukti\n",
      "3 : ratio, current, equity, profitabilitas, uji, debt, roe, size, leverage, risk, firm, on, usaha, to, teliti, return, pengaruh, signifikan, payout, businees, dividend, variabel, efek, daftar, bursa\n",
      "4 : tbk, pt, portofolio, saham, return, optimal, risiko, astra, excess, kandidat, beta, to, indonesia, off, dana, indeks, tunggal, cut, energy, bentuk, hitung, investasi, point, teliti, dasar\n",
      "5 : saing, unggul, inovasi, pasar, optik, reza, lamongan, tingkat, data, kerja, alami, jawa, terap, laku, teliti, conclusion, omzet, timur, tawar, display, drawing, observasi, buah, dokumen, jual\n"
     ]
    }
   ],
   "source": [
    "kmeans = KMeans(n_clusters = 6, n_init = 20)\n",
    "kmeans.fit(X3)\n",
    "# We look at 6 the clusters generated by k-means.\n",
    "common_words = kmeans.cluster_centers_.argsort()[:,-1:-26:-1]\n",
    "for num, centroid in enumerate(common_words):\n",
    "    print(str(num) + ' : ' + ', '.join(words[word] for word in centroid))"
   ]
  },
  {
   "cell_type": "code",
   "execution_count": null,
   "metadata": {},
   "outputs": [],
   "source": []
  }
 ],
 "metadata": {
  "kernelspec": {
   "display_name": "Python 3 (ipykernel)",
   "language": "python",
   "name": "python3"
  },
  "language_info": {
   "codemirror_mode": {
    "name": "ipython",
    "version": 3
   },
   "file_extension": ".py",
   "mimetype": "text/x-python",
   "name": "python",
   "nbconvert_exporter": "python",
   "pygments_lexer": "ipython3",
   "version": "3.10.5"
  },
  "vscode": {
   "interpreter": {
    "hash": "27f6fea6f47ae512550f0b8facdbd035a93e1dd89633f7bf2dd00a2502c71d0d"
   }
  }
 },
 "nbformat": 4,
 "nbformat_minor": 1
}
